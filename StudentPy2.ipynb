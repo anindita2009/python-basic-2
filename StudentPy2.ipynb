{
  "nbformat": 4,
  "nbformat_minor": 0,
  "metadata": {
    "colab": {
      "provenance": [],
      "gpuType": "T4",
      "toc_visible": true
    },
    "kernelspec": {
      "name": "python3",
      "display_name": "Python 3"
    },
    "language_info": {
      "name": "python"
    },
    "accelerator": "GPU"
  },
  "cells": [
    {
      "cell_type": "markdown",
      "source": [
        "[Baca modulnya, klik saja ya!](https://docs.google.com/presentation/d/1Z7Z17ExRCQTWGYyhQccwny7bgrChuOuM/edit?usp=sharing&ouid=105112736793841989684&rtpof=true&sd=true)\n",
        "### 1. **IF Statement - Python**\n",
        "Soal:\n",
        "1. Tulis program untuk memeriksa apakah sebuah bilangan lebih besar dari 10.\n",
        "2. Buatlah program untuk memeriksa apakah angka yang dimasukkan lebih kecil dari 5.\n",
        "3. Tulis program yang memeriksa apakah nilai yang dimasukkan sama dengan 100.\n",
        "4. Buat program untuk memeriksa apakah umur lebih dari atau sama dengan 18.\n",
        "5. Tulis program untuk memeriksa apakah bilangan yang dimasukkan adalah angka positif.\n",
        "6. Buat program untuk memeriksa apakah suatu kata adalah \"Python\".\n",
        "7. Tulis program untuk memeriksa apakah panjang sebuah string lebih dari 5 karakter.\n",
        "8. Buat program yang memeriksa apakah angka genap.\n",
        "9. Tulis program yang memeriksa apakah suhu lebih dari 30 derajat.\n",
        "10. Buat program untuk memeriksa apakah sebuah nama diawali dengan huruf \"A\".\n",
        "\n",
        "---\n",
        "\n",
        "### 2. **IF-ELSE Statement - Python**\n",
        "Soal:\n",
        "1. Buat program yang memeriksa apakah angka lebih besar dari 50, jika tidak tampilkan pesan \"Angka lebih kecil atau sama dengan 50\".\n",
        "2. Tulis program untuk memeriksa apakah umur lebih besar dari atau sama dengan 18, jika tidak tampilkan \"Anda belum dewasa\".\n",
        "3. Buat program yang memeriksa apakah suhu lebih rendah dari 20, jika tidak tampilkan \"Suhu nyaman\".\n",
        "4. Tulis program untuk memeriksa apakah angka positif, jika tidak tampilkan \"Angka bukan positif\".\n",
        "5. Buat program yang memeriksa apakah nilai lebih besar dari 75, jika tidak tampilkan \"Nilai kurang dari 75\".\n",
        "6. Buat program untuk memeriksa apakah angka genap atau ganjil.\n",
        "7. Tulis program untuk memeriksa apakah nilai lebih besar dari 90, jika tidak tampilkan \"Nilai lebih rendah dari 90\".\n",
        "8. Buat program untuk memeriksa apakah nama yang dimasukkan adalah \"John\", jika tidak tampilkan \"Nama bukan John\".\n",
        "9. Tulis program untuk memeriksa apakah panjang string lebih dari 10, jika tidak tampilkan \"Panjang string tidak lebih dari 10\".\n",
        "10. Buat program yang memeriksa apakah umur lebih kecil dari 50, jika tidak tampilkan \"Umur lebih dari 50\".\n",
        "\n",
        "---\n",
        "\n",
        "### 3. **IF-ELIF-ELIF Statement - Python**\n",
        "Soal:\n",
        "1. Buat program untuk memeriksa apakah angka lebih besar dari 100, antara 50-100, atau kurang dari 50.\n",
        "2. Tulis program untuk menentukan apakah nilai lebih dari 90, antara 70 dan 90, atau kurang dari 70.\n",
        "3. Buat program yang memeriksa umur untuk menentukan apakah seseorang anak-anak, remaja, atau dewasa.\n",
        "4. Tulis program untuk memeriksa suhu apakah sangat dingin, nyaman, atau sangat panas.\n",
        "5. Buat program yang memeriksa angka apakah negatif, nol, atau positif.\n",
        "6. Buat program untuk menentukan apakah hari dalam minggu adalah hari kerja atau akhir pekan.\n",
        "7. Tulis program untuk memeriksa apakah suhu tubuh normal, demam ringan, atau demam tinggi.\n",
        "8. Buat program untuk memeriksa apakah nilai yang dimasukkan adalah A, B, C, D, atau E.\n",
        "9. Tulis program untuk memeriksa waktu apakah pagi, siang, atau malam.\n",
        "10. Buat program yang memeriksa apakah angka ganjil, genap, atau nol.\n",
        "\n",
        "---\n",
        "\n",
        "### 4. **IF-ELIF-ELSE Statement - Python**\n",
        "Soal:\n",
        "1. Buat program yang memeriksa apakah angka lebih dari 100, antara 50 dan 100, atau kurang dari 50.\n",
        "2. Tulis program untuk memeriksa apakah umur lebih besar dari 18, antara 13 hingga 18, atau kurang dari 13.\n",
        "3. Buat program untuk memeriksa apakah suhu lebih dari 30, antara 20 hingga 30, atau kurang dari 20.\n",
        "4. Tulis program untuk memeriksa apakah nilai lebih dari 90, antara 60 hingga 90, atau kurang dari 60.\n",
        "5. Buat program untuk memeriksa apakah angka lebih besar dari 0, 0, atau lebih kecil dari 0.\n",
        "6. Tulis program untuk memeriksa apakah hari ini hari Senin, hari biasa, atau hari libur.\n",
        "7. Buat program yang memeriksa suhu tubuh apakah normal, demam ringan, atau demam tinggi.\n",
        "8. Tulis program untuk memeriksa apakah nilai lebih dari 90, lebih dari 50, atau kurang dari 50.\n",
        "9. Buat program untuk memeriksa waktu apakah pagi, siang, atau malam.\n",
        "10. Buat program untuk memeriksa angka apakah genap, ganjil, atau nol.\n"
      ],
      "metadata": {
        "id": "PSRCAo482aH4"
      }
    },
    {
      "cell_type": "markdown",
      "source": [
        "### 1. **IF Statement - Python**\n",
        "Soal:\n",
        "1. Tulis program untuk memeriksa apakah sebuah bilangan lebih besar dari 10.\n",
        "2. Buatlah program untuk memeriksa apakah angka yang dimasukkan lebih kecil dari 5.\n",
        "3. Tulis program yang memeriksa apakah nilai yang dimasukkan sama dengan 100.\n",
        "4. Buat program untuk memeriksa apakah umur lebih dari atau sama dengan 18.\n",
        "5. Tulis program untuk memeriksa apakah bilangan yang dimasukkan adalah angka positif.\n",
        "6. Buat program untuk memeriksa apakah suatu kata adalah \"Python\".\n",
        "7. Tulis program untuk memeriksa apakah panjang sebuah string lebih dari 5 karakter.\n",
        "8. Buat program yang memeriksa apakah angka genap.\n",
        "9. Tulis program yang memeriksa apakah suhu lebih dari 30 derajat.\n",
        "10. Buat program untuk memeriksa apakah sebuah nama diawali dengan huruf \"A\".\n",
        "\n"
      ],
      "metadata": {
        "id": "ntjLo8KTcbeb"
      }
    },
    {
      "cell_type": "code",
      "execution_count": null,
      "metadata": {
        "id": "lCaDMWXIyZmB",
        "colab": {
          "base_uri": "https://localhost:8080/"
        },
        "outputId": "03ec38c1-fc1f-4666-ac00-707511d9cd72"
      },
      "outputs": [
        {
          "output_type": "stream",
          "name": "stdout",
          "text": [
            "masukan sebuah angka : 24\n",
            "24\n",
            "angka lebih besar dari 10\n"
          ]
        }
      ],
      "source": [
        "#1.1\n",
        "x = input(\"masukan sebuah angka : \")\n",
        "print(x)\n",
        "if int(x) > 10 :\n",
        "  print(\"angka lebih besar dari 10\")"
      ]
    },
    {
      "cell_type": "markdown",
      "source": [
        "![image.png](data:image/png;base64,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)"
      ],
      "metadata": {
        "id": "ox-Qk_cFBTAz"
      }
    },
    {
      "cell_type": "code",
      "source": [
        "#1.2\n",
        "x = input(\"masukan sebuah angka : \")\n",
        "print(x)\n",
        "if int(x) < 5 :\n",
        "  print(\"angka lebih kecil dari 5\")"
      ],
      "metadata": {
        "id": "KzuugT9d_FH-",
        "colab": {
          "base_uri": "https://localhost:8080/"
        },
        "outputId": "7d42ab4e-f3bd-4e40-f684-e3ce200a8716"
      },
      "execution_count": null,
      "outputs": [
        {
          "output_type": "stream",
          "name": "stdout",
          "text": [
            "masukan sebuah angka : 1\n",
            "1\n",
            "angka lebih kecil dari 5\n"
          ]
        }
      ]
    },
    {
      "cell_type": "markdown",
      "source": [
        "![image.png](data:image/png;base64,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)"
      ],
      "metadata": {
        "id": "lPIZ89ckCqk9"
      }
    },
    {
      "cell_type": "code",
      "source": [
        "#1.3\n",
        "x = input(\"masukan sebuah nilai : \")\n",
        "print(x)\n",
        "if int(x) == 100 :\n",
        "  print(\"nilai sama dengan 100\")"
      ],
      "metadata": {
        "id": "WGQ5cyWpBFyl",
        "colab": {
          "base_uri": "https://localhost:8080/"
        },
        "outputId": "13adc052-62e6-4228-b4a8-3ab38ec29ae4"
      },
      "execution_count": null,
      "outputs": [
        {
          "output_type": "stream",
          "name": "stdout",
          "text": [
            "masukan sebuah nilai : 100\n",
            "100\n",
            "nilai sama dengan 100\n"
          ]
        }
      ]
    },
    {
      "cell_type": "markdown",
      "source": [
        "![image.png](data:image/png;base64,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)"
      ],
      "metadata": {
        "id": "TKEma4hcCyl2"
      }
    },
    {
      "cell_type": "code",
      "source": [
        "#1.4\n",
        "x = input(\"masukan usia anda :\")\n",
        "print(x)\n",
        "if int(x) >= 18 :\n",
        "  print(\"anda dewasa\")"
      ],
      "metadata": {
        "id": "cLKrIHaHCsAb",
        "colab": {
          "base_uri": "https://localhost:8080/"
        },
        "outputId": "d58d244d-b02d-4185-ecbd-a0f944919bb3"
      },
      "execution_count": null,
      "outputs": [
        {
          "output_type": "stream",
          "name": "stdout",
          "text": [
            "masukan usia anda :19\n",
            "19\n",
            "anda dewasa\n"
          ]
        }
      ]
    },
    {
      "cell_type": "markdown",
      "source": [
        "![image.png](data:image/png;base64,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)"
      ],
      "metadata": {
        "id": "04DNXYzgD6tv"
      }
    },
    {
      "cell_type": "code",
      "source": [
        "#1.5\n",
        "x = input(\"masukan sebuah angka : \")\n",
        "print(x)\n",
        "if int(x) > 0:\n",
        "  print(\"angka positif\")"
      ],
      "metadata": {
        "id": "1k3LMnmKD2dA",
        "colab": {
          "base_uri": "https://localhost:8080/"
        },
        "outputId": "db5c475e-0ac5-4f5c-cc1b-d7ed64ce3fe2"
      },
      "execution_count": null,
      "outputs": [
        {
          "output_type": "stream",
          "name": "stdout",
          "text": [
            "masukan sebuah angka : 1\n",
            "1\n",
            "angka positif\n"
          ]
        }
      ]
    },
    {
      "cell_type": "markdown",
      "source": [
        "![image.png](data:image/png;base64,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)"
      ],
      "metadata": {
        "id": "8ENvRnQUEz_P"
      }
    },
    {
      "cell_type": "code",
      "source": [
        "#1.6\n",
        "x = input(\"masukan sebuah kata : \")\n",
        "print(x)\n",
        "if str(x) == 'python' :\n",
        "  print(\"kata tersebut adalah python\")"
      ],
      "metadata": {
        "id": "c_PPgiNsEZzr",
        "colab": {
          "base_uri": "https://localhost:8080/"
        },
        "outputId": "64a0b831-852d-4f64-e452-30374486e65d"
      },
      "execution_count": null,
      "outputs": [
        {
          "output_type": "stream",
          "name": "stdout",
          "text": [
            "masukan sebuah kata : python\n",
            "python\n",
            "kata tersebut adalah python\n"
          ]
        }
      ]
    },
    {
      "cell_type": "markdown",
      "source": [
        "![image.png](data:image/png;base64,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)"
      ],
      "metadata": {
        "id": "Nqqpx_UfFvVv"
      }
    },
    {
      "cell_type": "code",
      "source": [
        "#1.7\n",
        "x = input(\"masukan sebuah kata : \")\n",
        "print(x)\n",
        "if str(x) > 'lima karakter' :\n",
        "  print(\"kata tersebut lebih dari 5 karakter\")"
      ],
      "metadata": {
        "id": "Oh5JWa_eFjRe",
        "colab": {
          "base_uri": "https://localhost:8080/"
        },
        "outputId": "669fec17-1417-45ef-bddb-183dbc8d98aa"
      },
      "execution_count": null,
      "outputs": [
        {
          "output_type": "stream",
          "name": "stdout",
          "text": [
            "masukan sebuah kata : riri dan anin\n",
            "riri dan anin\n",
            "kata tersebut lebih dari 5 karakter\n"
          ]
        }
      ]
    },
    {
      "cell_type": "markdown",
      "source": [
        "![image.png](data:image/png;base64,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)"
      ],
      "metadata": {
        "id": "kod3zbInHBFn"
      }
    },
    {
      "cell_type": "code",
      "source": [
        "#1.8\n",
        "x = input(\"masukan sebuah angka : \")\n",
        "print(x)\n",
        "if int(x) % 2 == 0 :\n",
        "  print(\"angka genap\")"
      ],
      "metadata": {
        "id": "zI6VTR1OGz4S",
        "colab": {
          "base_uri": "https://localhost:8080/"
        },
        "outputId": "1e34c0cf-9c10-41eb-bfba-b3457d12043c"
      },
      "execution_count": null,
      "outputs": [
        {
          "output_type": "stream",
          "name": "stdout",
          "text": [
            "masukan sebuah angka : 6\n",
            "6\n",
            "angka genap\n"
          ]
        }
      ]
    },
    {
      "cell_type": "markdown",
      "source": [
        "![image.png](data:image/png;base64,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)"
      ],
      "metadata": {
        "id": "nywqsto_H5Zo"
      }
    },
    {
      "cell_type": "code",
      "source": [
        "#1.9\n",
        "x = input(\"masukan suhu ruangan : \")\n",
        "print(x)\n",
        "if int(x) > 30 :\n",
        "  print(\"suhu lebih dari 30\")"
      ],
      "metadata": {
        "id": "-6Ur1gR3H54f",
        "colab": {
          "base_uri": "https://localhost:8080/"
        },
        "outputId": "8d8e38ec-b57e-47d8-b693-1bba6814a129"
      },
      "execution_count": null,
      "outputs": [
        {
          "output_type": "stream",
          "name": "stdout",
          "text": [
            "masukan suhu ruangan : 31\n",
            "31\n",
            "suhu lebih dari 30\n"
          ]
        }
      ]
    },
    {
      "cell_type": "markdown",
      "source": [
        "![image.png](data:image/png;base64,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)"
      ],
      "metadata": {
        "id": "f-7_oxcyIzxT"
      }
    },
    {
      "cell_type": "code",
      "source": [
        "angka = [1,2,3]\n",
        "print(angka[2])"
      ],
      "metadata": {
        "colab": {
          "base_uri": "https://localhost:8080/"
        },
        "id": "8JMOhY-yeArp",
        "outputId": "abca0c28-cc84-4926-fa10-929a0fb83077"
      },
      "execution_count": null,
      "outputs": [
        {
          "output_type": "stream",
          "name": "stdout",
          "text": [
            "3\n"
          ]
        }
      ]
    },
    {
      "cell_type": "code",
      "source": [
        "#1.10\n",
        "x = input(\"masukan sebuah nama : \")\n",
        "print(x)\n",
        "if str(x[0]) == 'a' :\n",
        "    print(\"nama diawali dengan huruf a\")"
      ],
      "metadata": {
        "id": "nVe-WEepI0L9",
        "colab": {
          "base_uri": "https://localhost:8080/"
        },
        "outputId": "a94233a3-9828-4827-990e-7e561ef9a9d6"
      },
      "execution_count": null,
      "outputs": [
        {
          "output_type": "stream",
          "name": "stdout",
          "text": [
            "masukan sebuah nama : agus\n",
            "agus\n",
            "nama diawali dengan huruf a\n"
          ]
        }
      ]
    },
    {
      "cell_type": "markdown",
      "source": [
        "![image.png](data:image/png;base64,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)"
      ],
      "metadata": {
        "id": "x61qBqyeJzqU"
      }
    },
    {
      "cell_type": "markdown",
      "source": [
        "### 2. **IF-ELSE Statement - Python**\n",
        "Soal:\n",
        "1. Buat program yang memeriksa apakah angka lebih besar dari 50, jika tidak tampilkan pesan \"Angka lebih kecil atau sama dengan 50\".\n",
        "2. Tulis program untuk memeriksa apakah umur lebih besar dari atau sama dengan 18, jika tidak tampilkan \"Anda belum dewasa\".\n",
        "3. Buat program yang memeriksa apakah suhu lebih rendah dari 20, jika tidak tampilkan \"Suhu nyaman\".\n",
        "4. Tulis program untuk memeriksa apakah angka positif, jika tidak tampilkan \"Angka bukan positif\".\n",
        "5. Buat program yang memeriksa apakah nilai lebih besar dari 75, jika tidak tampilkan \"Nilai kurang dari 75\".\n",
        "6. Buat program untuk memeriksa apakah angka genap atau ganjil.\n",
        "7. Tulis program untuk memeriksa apakah nilai lebih besar dari 90, jika tidak tampilkan \"Nilai lebih rendah dari 90\".\n",
        "8. Buat program untuk memeriksa apakah nama yang dimasukkan adalah \"John\", jika tidak tampilkan \"Nama bukan John\".\n",
        "9. Tulis program untuk memeriksa apakah panjang string lebih dari 10, jika tidak tampilkan \"Panjang string tidak lebih dari 10\".\n",
        "10. Buat program yang memeriksa apakah umur lebih kecil dari 50, jika tidak tampilkan \"Umur lebih dari 50\"."
      ],
      "metadata": {
        "id": "vrHeIgTCMF5v"
      }
    },
    {
      "cell_type": "code",
      "source": [
        "#2.1\n",
        "x = input(\"masukan sebuah angka : \")\n",
        "print(x)\n",
        "if int(x) > 50 :\n",
        "  print(\"angka lebih besar atau sama dengan 50\")\n",
        "else :\n",
        "  print(\"angka lebih kecil atau kurang dari 50\")"
      ],
      "metadata": {
        "id": "YPJc2ls-J0fE",
        "colab": {
          "base_uri": "https://localhost:8080/"
        },
        "outputId": "f3a9c07d-d625-408d-9377-35722e280a09"
      },
      "execution_count": null,
      "outputs": [
        {
          "output_type": "stream",
          "name": "stdout",
          "text": [
            "masukan sebuah angka : 51\n",
            "51\n",
            "angka lebih besar atau sama dengan 50\n"
          ]
        }
      ]
    },
    {
      "cell_type": "markdown",
      "source": [
        "![image.png](data:image/png;base64,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)\n",
        "\n",
        "-----\n",
        "![image.png](data:image/png;base64,iVBORw0KGgoAAAANSUhEUgAAAVMAAAA8CAYAAADbnllPAAAAAXNSR0IArs4c6QAAAARnQU1BAACxjwv8YQUAAAAJcEhZcwAADsMAAA7DAcdvqGQAAA1TSURBVHhe7d1PSCNnHwfw7/veSorZXkZa1A6iUDfMnrpJI0I9WFgLAUGIB8kixSUITViSQy5LCuJF0IuBDaKIdfegCwHBsh6Swy6IIR4zBA/KEkgozVzKLoYe5z00z9P5l8zETGTf7u8DHpw/T57nyTO/eZ5n9Jn/qKqqghBCSE/+a9xACCGkexRMCSHEBRRMCSHEBRRMHcpms1hYWECz2TTuIoQQczBtNptYWFiAKIq6n2w2azy0L9jnFwoF465PVjabNX0f2vpRFAWTk5N3/l0RQv5hCqYejwdHR0eoVCoIBAJIpVKoVqtYWVkxHkruEPse2M/MzAzQuvnEYjFEIhFUq1WcnJxga2uLbkaE3DFTMLWjKArvOU5MTEAURd3wt1AoIJlM6npTrKdk1evMZrNIJpMAgGQyCZ/Ph1KphOXlZdP5Tmg/d2JiArIsA63PfvLkCQqFAu/FTU5OQlEUy3PZD8ubUTKZ1PUQjT16qykBWZYxMTHRVXnsFItF1Go1zM/PAwAkScKPP/6I09NT46GEkD7qOpgCQK1WQzqdxtu3b3FxcYFarYZiscj353I5XF9f857SwcEBD2qdbG5u8h7x7u4u74U57RXLsoyBgQF+Xjwex9raGg9qHz58QCwWw/b2NiqVCoaHh5HL5fi5BwcHODk5QbVaxfz8PAKBAFZXVw2f8ncgrdfrqFQqvId4fHyMZ8+eoVqtolKpAAAODg4MZ7rv6uoKwWAQgiAArRtCLpdDvV43BXNCSP/cKph6vV5sb29DEAQIgoBgMIirqyu+XxuERkdHMTIygkajoUmhPyRJwuLiIv99amoKHz580AWVTCYDSZLg8XgwPT2N6+trAMDZ2RlGRkYwOjoKAJidnUWtVjMFpKdPn6Jer2Nvbw8ej4dvX1xchCRJQGuqRJs2I0kSLi8vHd8ctNbX1zv2lguFAkRRxJs3b3B4eGgqNyGkv24VTG9DG2z7xTjUDoVCeP/+vfEwS+Pj4yiXy3j37h0A4PT0VNfjA4BSqYR8Po/p6WldIIVmCM8+e319Xbe/FysrK7y3XalUUK/XdQE1l8thZ2cHlUoFR0dHuLm5wcDAgCmPhJD+ubNgOj4+btzkunQ6DQCoVCp8isHr9RoPszQ4OAgACIVCEEURxWIRqVRKd0wgEMDh4aHpAY+iKIhGo4jH4zzoGc91C+v1MuPj4/jqq6+QyWR48Ly6usLQ0BAFU0LuUN+D6cHBAWq1Gh48eMC3sV5qoVAw9eA8Hg+GhoZu/QCFBZFms4m1tTXHPdP9/X1dMDw/P9f1ShlJkpDJZBCLxUzzwOyGIcsytra2dPvY9l4fQLG0Z2dnAYDXK6tHRVHw4sULvp8QcjdMwZQNldlTdTZX100AKJVK8Pl8EEURL168wPHxMQRBgMfjwbNnz7C1tQVRFLGzs4Off/7ZeDpSqRSKxSIfMjv97KWlJbx+/RqiKMLn8+Hhw4eOe6ZLS0s8X+zH+LSfmZmZQTweRygUQjabhSAIiEQi/C8QotEowuGw8bRbMU5dhMNhvHr1ij/4EgQBx8fHvL78fj9WV1f5fkLI3fiP26tGFQoF7OzsmB7QfOySySTGxsZ0D4fYvOTm5qbmSEIIMTP1TD9FzWYT9Xpdt01RFBSLRYyNjem2E0KIFQqmrXla7fQDGy5HIpFb/RkTIeTT4/ownxBCPkXUMyWEEBdQMCWEEBdQMCWEEBdQMCWEEBdYBlOrpeiM/z5JixETQsg/LIMpaDFiQgjpSttg2g4tRkwIIWZdB1NajJgQQszaBlNajJgQQpyzDKa0GDEhhHTHMphq0WLEhBBizzaY0mLEhBBiz7TQSbPZxE8//YRSqQQA+Oyzz/Dq1Sv+sji0Aujc3Bx+//13AMDu7i4tRkwI+aSZgikhhJDu2Q7zCSGE2KNgSgghLqBgSgghLqBgSgghLqBgSgghLqBgSgghLrjTYNpsNrGwsNC39U9lWcbExAREUcTk5CQURTEe0lahUMDCwoLt+gLJZBITExOQZZlvY+W67TKE2WzW0Wf3gq1Ra8xjL3VmJMsyZmdne0rDiOXPan0I0hunbZ44c6fBtN8kScLl5SVOTk7g9XqNu4mFT7XOer0Bko+HtkNgtTgT+66t9rnpXxVM78Lm5iYuLy91/xH2/4AtXvP/9p9qLNhvbm4adxHCTU1NoVKp8AWatO0lnU5jaGgI1WoVFxcXKBaLfRkdWwZTYyTXDgUUReF3dHY3MA4VrF57YnU3YK8/0Q4vja9EsTrvtozlskpbm3dthTsZDjcaDZ73dsc4kUwmIWqG5N3mW3uutj6N0xNuYEsxiqKIUCiE9+/f6/Zr82X8/GQyiWw2qztG21Nk9SDe4tU4xjrTttFkMgmfz4dSqYTl5WXLz9CWy5gvO8Y2bLw+2qXNrq1ffvkFoihiY2MDCwsLunrrVC4ntHW9vLys22dMW9vOer3ujWl3G1NuS5ZlnJ+fY2lpCQAgCAIikQjevHnjSvo6qoWXL1+q5XJZVVVVvbm5UcPhsPr8+XNVVVW10WiowWBQDQaDaqPR4L/n83lVVVW1XC6r3333HT8/kUio4XBYvbm50aXFzmPpMhsbG2qj0dB9FkvbqXK5rD569IinwyQSCTWRSKiqRbny+bz69ddf8/3GcjBWabO0vvnmG7VcLpvStvP8+XNeR9r6Yjrlm53Pvo92Go2G+ujRI1N5GKty2THWkTGNcrmsvnz5kh+vLafaKpe2zo37mUQi4bgumU5tWLvNqm01Gg11Y2OD/57P523rV6tTfjulzdp7IpHg7TGfz+vSsytXJ8Zy5PN50/fRrp2xvBnz6uS6V23ybZe2nXK5rC4vL5vajWpRRlav3XyfTln2TBcXF/kwli3Bd319zfd7vV5sb29DEAQIgoBgMIirqysAwNnZGUZGRjA6OgoAmJ2dRa1W090F/vjjD8zNzSESiWBlZYVvR6vXwFbxN6bdC0VRUK/XkUqlgFa5njx5ortDBQIBrK6uAgBGR0cxMjKCs7MzXTqdZDIZSJJkWWdOPH36FPV6HXt7e3w5Q7t8K61Vu1ZXV3m93ZX9/X08fvy47ZSHJElYXFzkv09NTZkWEdfWudX+27Jrw50IgqDrlT148ABerxeNRkN3XCftej52aXu9Xt6LCgQCCAaD/Fj0UK5ms4mdnZ227cSunaHH694u353SduLs7Aw+nw9im1EhG1mm02n89ttvXX+fTlgGU+OELltuz4nx8XGUy2W8e/cOAHB6eqp7zQkA/Prrr/jzzz8xNTWlOfNvxiFQLpczHnIrjUYD5XIZfr+fp20c5mh5PB4MDQ0ZN/dNqVRCPp/H9PS0bl1Yu3w3Gg2oqorBwUG+7WNhHNpZTQNoyytJEk5PTy0v9m710oZhmGLw+/2oVqvGQ9piNwd2cRunCHpJu9dytWPXzuzYXff9yjc08+psvjQSiWBubo4H1FKphEQigbdv3+L8/BxsbSe3rxlTMFUUBdFoFPF4nGeO3a2cYBkMhUIQRRHFYtF0fiqVQjweRzQa1d1BZFlGLBbD7u4u/2z24j43iKKIi4sLnna1WsXR0ZHlotbNZhP1eh3j4+PGXX0RCARweHho+abXTvkeHBzEvXv3dMd/LNLpNADwBwN39RcDvbbhbDaLYrHI6/zi4gKiKBoPa8vj8eDo6IiXORaL8e+0l7R7LZedTu3MTqfrvt/5NpqamuLtbHBwEF9++SXv9aJ14+jHm0FMwZRhQURuLQ7t1P7+vq7Szs/PLXsaKysrCAaDiMViuuHQvXv3+BdTKBRc65mOjo5iYGDA8R2RvYWVLYZ9FyRJQiaTQSwW4w8c7PItCALu37+PtbU1y2FlP42NjemmG6LRqKnnyd7A0Gw2sba2ZtrfT53aMBt5tHur7vDwML/Y1tfXUe2i96g1ODiIL774Qret17Q7lasdY3lZx4Wxa2d2nFz3t8l3t1g7u3//PgRB4NN17Ppg0x3GEaAbTMFUaD3tYk85o9EowuGw8bC2lpaWsLW1xbvzYps5DGiGQ99++y1kWYYkSZicnOR3t52dHfzwww/G09piTxNDoRAuLy/h9/v5Z3s8Huzt7aFer+vypn2CWyqV+NAsnU7j+PiYN4hOabtpZmYG8XgcoVAI2WzWUb43NzcxNDTE8y5qhpZs2sTv9+Py8hKhUEj3dLiXcj1+/BhoDWe///57rK6uYnh4mO9fWlrC69evIYoifD4fHj586LhnqmieiOdyOf6CRydP9Z224VQqhWKxaKrT+fl51Go1Xp+ff/45xC56j9on+X6/H5FIhP9JWi9pOy1XO9ryRqNRZDIZDAwMAK1ga9fOOul03feabzvavyLw+XyYnp7mfxrFyoVWO2X7jc9q3OD64tDJZBJjY2O6zLIJd/pbQUL+nei6t+iZ9oLNM2opioJisYixsTHddkLIvwNd939zvWcqyzLC4TD++usvvi2VSvWlW00I+TjQdd+HYEoIIZ8iV4f5hBDyqaJgSgghLqBgSgghLqBgSgghLqBgSgghLqBgSgghLqBgSgghLqBgSgghLvgfCoYjbUm59DgAAAAASUVORK5CYII=)"
      ],
      "metadata": {
        "id": "3CpuiGunNXno"
      }
    },
    {
      "cell_type": "code",
      "source": [
        "#2.2\n",
        "x = input(\"masukan usia anda : \")\n",
        "print(x)\n",
        "if int(x) >= 18 :\n",
        "  print(\"anda sudah dewasa\")\n",
        "else :\n",
        "  print(\"anda belum dewasa\")"
      ],
      "metadata": {
        "id": "iXS-sil2NX-I",
        "colab": {
          "base_uri": "https://localhost:8080/"
        },
        "outputId": "3b8b519f-6b69-4d56-b3a3-c35765fbc435"
      },
      "execution_count": null,
      "outputs": [
        {
          "output_type": "stream",
          "name": "stdout",
          "text": [
            "masukan usia anda : 19\n",
            "19\n",
            "anda sudah dewasa\n"
          ]
        }
      ]
    },
    {
      "cell_type": "markdown",
      "source": [
        "![image.png](data:image/png;base64,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)\n",
        "\n",
        "-----\n",
        "\n",
        "\n",
        "![image.png](data:image/png;base64,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)"
      ],
      "metadata": {
        "id": "61wv-radN6cz"
      }
    },
    {
      "cell_type": "code",
      "source": [
        "# 2.3\n",
        "x = input(\"masukan suhu ruang anda : \")\n",
        "print(x)\n",
        "if int(x) >= 20 :\n",
        "  print(\"suhu anda nyaman\")\n",
        "else :\n",
        "  print(\"suhu anda lebih rendah dari 20 derajat\")"
      ],
      "metadata": {
        "id": "Z_-9JzWVO4zI",
        "colab": {
          "base_uri": "https://localhost:8080/"
        },
        "outputId": "50138110-3a63-402c-f07d-94bd22dd0050"
      },
      "execution_count": null,
      "outputs": [
        {
          "output_type": "stream",
          "name": "stdout",
          "text": [
            "masukan suhu ruang anda : 27\n",
            "27\n",
            "suhu anda nyaman\n"
          ]
        }
      ]
    },
    {
      "cell_type": "markdown",
      "source": [
        "![image.png](data:image/png;base64,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)\n",
        "\n",
        "----\n",
        "\n",
        "![image.png](data:image/png;base64,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)"
      ],
      "metadata": {
        "id": "VMTUHeCzQvRG"
      }
    },
    {
      "cell_type": "code",
      "source": [
        "#2.4\n",
        "x = input(\"masukan sebuah angka : \")\n",
        "print(x)\n",
        "if int(x) > 0 :\n",
        "  print(\"angka positif\")\n",
        "else :\n",
        "  print(\"angka negatif\")"
      ],
      "metadata": {
        "id": "MmQQX_bON7Sq",
        "colab": {
          "base_uri": "https://localhost:8080/"
        },
        "outputId": "fcf64372-4c82-4014-d45d-742a1d27c3d8"
      },
      "execution_count": null,
      "outputs": [
        {
          "output_type": "stream",
          "name": "stdout",
          "text": [
            "masukan sebuah angka : -2\n",
            "-2\n",
            "angka negatif\n"
          ]
        }
      ]
    },
    {
      "cell_type": "markdown",
      "source": [
        "![image.png](data:image/png;base64,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)\n",
        "\n",
        "-----\n",
        "\n",
        "![image.png](data:image/png;base64,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)"
      ],
      "metadata": {
        "id": "1MWvSLw7O4KJ"
      }
    },
    {
      "cell_type": "code",
      "source": [
        "#2.5\n",
        "x = input(\"masukan nilai : \")\n",
        "print(x)\n",
        "if int(x) >= 75 :\n",
        "  print(\"nilai lebih dari 75\")\n",
        "else :\n",
        "  print(\"nilai kurang dari 75\")"
      ],
      "metadata": {
        "id": "NSIZUEzhQvnv",
        "colab": {
          "base_uri": "https://localhost:8080/"
        },
        "outputId": "17406939-21f0-4cc0-fea6-60797235b4a1"
      },
      "execution_count": null,
      "outputs": [
        {
          "output_type": "stream",
          "name": "stdout",
          "text": [
            "masukan nilai : 100\n",
            "100\n",
            "nilai lebih dari 75\n"
          ]
        }
      ]
    },
    {
      "cell_type": "markdown",
      "source": [
        "![image.png](data:image/png;base64,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)\n",
        "\n",
        "\n",
        "----\n",
        "\n",
        "![image.png](data:image/png;base64,iVBORw0KGgoAAAANSUhEUgAAAPUAAAA+CAYAAADznl0SAAAAAXNSR0IArs4c6QAAAARnQU1BAACxjwv8YQUAAAAJcEhZcwAADsMAAA7DAcdvqGQAAApoSURBVHhe7d0/SBvvHwfw9/e3lZQEh56lJHKIDlbi1oiSwaEdLFiEgA4ScVBEaByaIYsEviFLoFkiJUhERBczHIQGzNAbFIpp7FRDdFDK0YS2uU4Jzdzv8Ms93F2SJtHEP+fnBQ7e89z/53Of5x69u3/+/PnzB4QQw/iffgIh5G6joCbEYJoGdaVSwezsLHie1/xEo1F91a5Q1i+Kor7oXspmsxgaGqo5H7Ozs6hUKjX1vF6vZn5ifE2D2mQyIR6PI5fLYXR0FD6fD5IkYWVlRV+VXAO73Y6zszNIksR+XC4XrFYrTCYTACAajSIYDMLpdOpnJ/dA06BuRpZllkmVDKLOGqIowuv1IhqN1mT5elk4Go2y7OL1ejE8PIxMJoPFxcWa+ZuJRqNsecq86nXJsozx8fGabFepVLC0tIS3b9+C53l4vV62DPX86uUODQ0hm81qypT111s3VNm01f2pR5ZlnJ6eYmFhAagu8+fPn4jH4zCbzfrq5B64clADQD6fh9/vx+HhIY6Pj5HP55FOp1m5IAi4uLiAJElIJpPY2dnRBEAj4XCY9RA2NzdZZmqnlxAKhTAwMABJkuDz+RCLxVjgejweuN1uSJKEXC4HAPD7/QCAcrmMz58/Y29vD/v7+xgYGIDP50MqlQKqF4xCoYBcLgdJkrC6uorl5WXIsqxZt7Lf6nV3kiAIePr0Kex2O1DN5P/++6++GrlHOhLUFosFGxsb4DgOHMdhbGwM5+fnrHx0dBSBQAAA0N/fj76+PhSLRdUSusflcrGLgNPpRLlcRqVSQTqdRj6fh8vlAqq3GWtrazg9PcWvX78AAEtLSzCZTOB5ntVDNTvu7u6ycgCYn5+HzWbDyckJq6feb/W6FUpXup2LlJosy3j//j3L0oSgU0F9Geqgvyk2m40FZbssFgt6e3v1kzUmJibY8u12O1KpFDiO01e7NEEQYDab0d/fry8i99iNBfXg4KB+0rXL5/OazFksFlEqlTR1GimVSpreRqVSQT6f19Tppnq9BUJwE0G9s7ODfD6PkZERNk3J2qIoIhQKqWr/v1tstVrZvWynKOsXBAGoBmUsFoPb7cajR490tbWUWwz1PbIgCLDZbBgbG9NXb+gqA2WXWR+5H5oGtTJCrYxCh0KhtkagASCTyWB4eBg8z2N3dxeJRAIcx7H72EgkAp7nEYvF8Pr1a/3s8Pl8SKfTbY9+/w3HcUgkEtjd3QXP8xgeHobVam35/jYcDsNqtWr2a319/VqyZjabRSQSqZul1SP6giBAEAQ2gk/uh3+6/b/foigiFotha2urpgESQjqvaaYmhNwtFNSEGEzXu9+EkOtFmZoQg6GgJsRgKKgJMRgKakIMpmlQ00P5hNwtlxr9VgI3HA4D1ccQDw4OYDabYTab2XRCyPVrmqn16KF8Qm63toOaHson5HZrK6jpoXxCbr+2gpoeyifk9ms5qOmhfELuhpaDmh7KJ+RuaOlPWtlsFjMzM1hfX8fz5881ZbIsY3p6Gt+/f9dMd7lc9KctQm5AS0FNCLk7Wu5+E0LuBgpqQgyGgpoQg6GgJsRgKKgJMRgKakIMhoKaEIPpWFA3ekmC+osR+m84t6rRsm+S+uUR4+Pjmk/YNiPLMiYnJ5seC6/XW3PM6n3Tux2iKNa84OIuuupxqOc2trPL6FhQN8JxHI6OjnB8fAye5/XFXaOcdP0bW/RBolx02m3oymdok8kkLBaLvpjcE620M3Vi4zv02ai/6VhQK428G/8aepllm0wmxONx9qF6SZKwubmJnp4e9glaURQxPT2NFy9e6Ge/FcLhMM7Oztiz66S7utHOKpUKPB4P3G43JElCMplEJBLpaA9Dr2lQVyoVLC0tQRRFdrXRdze9Xu+lr0L6K50+Y15l2XqpVAputxscx0GWZaRSKXz48AGPHz/WV70y/X7V69KdnJywLrx6v1vp2heLxYbnoxXRaLThcVWX6Zetzzr68yWKIivjeV7TeJWu/6dPn9j+1TsujajXrXywUU293foemdfrRTQa1dRRb1u32lk6nUY+n4fL5QKqF46XL192/Cuuak2DGgDK5TI8Hg82NjaQy+Vgs9nYJ2BRzSiSJLENb0cikcDa2hokSUIulwOqn7tVXGXZatlsFqenp2w5HMchHA537TFSv98Pq9XK9qtQKGgaS6lUwrt373B4eFiz36107YPBYMPz0Uwmk8GPHz9Y5tjZ2WEBIIoidnd3cXx8DEmS4Ha74fF4WOCGQiGWdSRJQjweZ8dQlmV8+fJFk7H8fr/mopDJZPDmzRscHh4imUzi6Oio6dgCqhdJdcbL5XIYHR1l5dlsFmazma17dXUVwWBQc8EJhUK4uLiAJEnw+XyaTxF3q52dn59jbGwMHMcB1QuPIAgoFApt3e61o6WgBoD19XXY7XaYTCZMTEzg4uJCX+VS5ubmWPey08tW297exqtXr9jB7SZZllEoFODz+YDqfi0tLeHg4ICdSIvFgo2NDfZJ34mJCU15M1c5H6OjowgEAgCA/v5+9PX14ePHj0A1ywQCAXacXC4XyuUyvn79yuZvtJ0cx2ky78jICCwWC4rFIpv24MEDtt/KutXljaTTaQDA/Py8vgioXgjn5ubY706nE+VyWbOd6v2uV94JjdqZ0oM5ODjA3t5eV9ataDmou0Xd1eR5vuaj852QzWZxdHQEp9OpL+qKYrGIk5MTOBwOtl+Li4v6ahqDg4P6SdfCZDLBarUC1WxYKBSwuLjIttvhcECSJFZfCQrlu9z6e0N1N1Y/L6qBrrw5R7kf1T/Oexn6252pqSmUSiVNnYmJCdarsNvtSKVSNcF3FY3amSAIiMViyOVyiMfj+P37N8xmc9d6iTca1LIsY3l5Gaurq6zbpGS3Ttre3sb4+Pi1DjjxPM+6sPW6qnrn5+ewWq0Ny7tFCWT1RWVzc1Oz3erBOvXAUDKZhMfjYYEdjUaRTqfZfl/nXzz8fj8AIJfLsW1rdOvSLfXa2eDgIJ48eYL19XV2brt9rm80qBVKg8pms4hEIvriK1Guntf5ssT+/n6YzeaWex1y9VVRk5OT+qKuUwZyRkZGWFdefx/cSG9vL3p6ejTTbDYba6yhUKgmU19Wb28vvn37xm4D/H5/zUCZEiiVSgXBYLAmU3dTo3Y2MjICVI8FrulcXzmo1SOSgiAgFAppRhCVewmHw4GzszNMTU2xkUmO4+B2u1l3b3l5GTMzMy0vuxnl5OqvnkqZ0l0LhULIZDIYHh6uGc1tRBlFnZqawtnZGRwOBxspNplM2NraQqFQYN1B/XaXSiVMTU2xYxMIBFg39G/L7gRlX3meh9/vRyKRYN3QlZUVuN1uza2Dckz0I98OhwNut5ttt8vlQj6fZ8t++PAh+A5larvdjvn5eXbMBgYGNINaCwsL2N/fB18dGX/27FnLmbqb7YzjOCQSCaTT6brnuhvozSeEGMyVMzUh5HahoCbEYCioCTEYCmpCDIaCmhCDoaAmxGAoqAkxGApqQgyGgpoQg6GgJsRgKKgJMRgKakIMhoKaEIOhoCbEYP4DOeoD6LOe5TsAAAAASUVORK5CYII=)"
      ],
      "metadata": {
        "id": "f5XEJBrGVB92"
      }
    },
    {
      "cell_type": "code",
      "source": [
        "# 2.6\n",
        "x = input(\"masukan sebuah angka : \")\n",
        "print(x)\n",
        "if int(x) % 2 == 0 :\n",
        "  print(\"angka yang dimasukan adalah bilangan genap\")\n",
        "else :\n",
        "  print(\"angka yang dimasukan adalah bilangan ganjil\")"
      ],
      "metadata": {
        "id": "MZffMCLOU06F",
        "colab": {
          "base_uri": "https://localhost:8080/"
        },
        "outputId": "653c9549-3fa4-446b-d737-94d65b2fc6ad"
      },
      "execution_count": null,
      "outputs": [
        {
          "output_type": "stream",
          "name": "stdout",
          "text": [
            "masukan sebuah angka : 11\n",
            "11\n",
            "angka yang dimasukan adalah bilangan ganjil\n"
          ]
        }
      ]
    },
    {
      "cell_type": "markdown",
      "source": [
        "![image.png](data:image/png;base64,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)\n",
        "\n",
        "-----\n",
        "\n",
        "![image.png](data:image/png;base64,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)"
      ],
      "metadata": {
        "id": "w7Qx8nUDV44S"
      }
    },
    {
      "cell_type": "code",
      "source": [
        "# 2.7\n",
        "x = input(\"masukan nilai anda : \")\n",
        "print(x)\n",
        "if int(x) >= 90 :\n",
        "  print(\"nilai lebih besar dari 90\")\n",
        "else :\n",
        "  print(\"nilai kurang dari 90\")"
      ],
      "metadata": {
        "id": "falHbYlAV5FV",
        "colab": {
          "base_uri": "https://localhost:8080/"
        },
        "outputId": "c80f6339-e1be-4573-b6e7-9cb67f1c9468"
      },
      "execution_count": null,
      "outputs": [
        {
          "output_type": "stream",
          "name": "stdout",
          "text": [
            "masukan nilai anda : 95\n",
            "95\n",
            "nilai lebih besar dari 90\n"
          ]
        }
      ]
    },
    {
      "cell_type": "markdown",
      "source": [
        "![image.png](data:image/png;base64,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)\n",
        "\n",
        "-----\n",
        "\n",
        "![image.png](data:image/png;base64,iVBORw0KGgoAAAANSUhEUgAAANkAAAAyCAYAAADRPX43AAAAAXNSR0IArs4c6QAAAARnQU1BAACxjwv8YQUAAAAJcEhZcwAADsMAAA7DAcdvqGQAAApzSURBVHhe7ZxPSBtPG8e/vrcSSO1lc9H+FlHwD5tDaWMThHpIQYVAIVQLokirldAaijl4EQ/BiwcvBgyiiJhLLQQsQj1kDzmIaUJP2aoHJSwakORSDOa878UZdjd/ja6mdT6QQ3Z2Z2Z39pnn2Wfnuw2KoihgMBiG8T/9BgaDcbswI2MwDIYZGYNhMMzIGAyDYUbGYBgMMzIGw2CYkTEYBlPWyLLZLBwOB4aGhpDP5/XFdY3P50NHRwckSdIXMRh3Slkjuy/y+TyGhoYgiqK+yHAkSUJ/fz+y2ay+6K8mGAyC53n6CwaDmnKfz0fL/sZJtZ4pa2Qcx2F/fx9bW1swmUz64rpmcXERR0dHEARBX/TgEEUR0WgUBwcHkGUZOzs72NzcpF4+GAwinU7T8qamJszNzemrYdRISSNTz3w+n09Tls1mqafp6OgomP1EUYTP59PUQWbOYl4qGAzSNnw+H7q6uhCPxzE+Pl5wfCUkSaJ9cjgcGo+Uz+cxMTEBURThcDg0+5DQ2OVy4ejoCDabDTzPF4Sc6nPS10/qIOX64/Xl6nMSRRFDQ0P4+fMn7X+x6+5wOAq2V+L4+BhNTU10orRYLGhsbASu6gyFQpiYmKDlY2NjODw8/Oe8+b2hVGB5eVmZnp7WbMtkMordblfsdruSyWTo/0gkoiiKokQiEeW///6jxyWTSeXly5dKMplULi8vlcHBQbqvUqSNYvtcl2QyqfT19SmZTIZuI/W2t7dr+rK8vFz2OEIkEqHnrFz1e3BwULm8vFQURVGmp6c159ze3k7PQd9WqWtG6ldfMwI5Rj8elSB9IW1PT0/TfmcyGaWvr6+gHf02Ru2U9GSVePz4MVZWVsBxHDiOg91ux/HxMS3v7u6G3+8HALS0tODp06fIZDKqGu6PQCAAQRBgMpnQ29uLk5MT/S5F2d3dhd/vB8dxAAC3241cLodUKoVsNotYLIb+/n7g6pytViu9JqlUCmazGaOjo8BVKD4yMoLd3V1a/6NHj+g1LXbNSPi+uLhIt1WDIAj49esXotEoeJ4HAPoIwHEcOjs7sbGxQfdfWFiALMuqGhg3oWYjqwW1Ef5t5PN5pNNpTQhrs9nozWgymdDc3EyNJpVK4fT0FD09PQCATCaDSCSCrq4uevzCwoKmDavVipaWFlrf1tYWnE6nZp9akCQJz58/x8TEBA4ODpBOpzWh7szMDGKxGO3Xs2fPYLVaYbFY9FUxauBOjaytrU2/6a9jbW0NsizTH0mumEwmNDU1IRwOg+d5uFwujI6OahIv3d3dNLlAftf1SrWwsbGBgYEBOJ1OmEwmrK+vo7m5GeFwGFB5SNInq9UKs9n81yW76pU7MbLNzU2cnZ3BarXSbcSriaJYMKOTG1YdSt0VFosFFxcXSCaTmu0ktJybmyuaEJAkCYeHh0gkEvRm9Xg8tNxqteLs7Aybm5ua465DrYkPAEin0zQxlUqlkEwmi056kiTh48eP8Hq9zMhuiaJGRjKAJKQhs/N1Bjcej9PQKBQKYXt7GxzHwWQyYXZ2FktLS+B5Hqurq/j8+bP+8IIQptrsIsn+qbOE+ixgOTiOg9/vp2GhOjvo8XgwMjJCM4+8KqsqCAI6Ozs1Zep+cxyH7e1thEIhTfldvAskz8ZkPFwuFwKBAA1F1RnTyclJfP/+nb36uE30mZDbIBKJaLJuD4FiWcliGULGw6OoJ2Ncn0wmg4uLC822vb09NDQ0sATCA4cZ2S3hdDpht9s14aI6TGY8XBoU9iEdBsNQmCdjMAyGGRmDYTDMyBgMg7mRkZEV7/r3Z+rV5vpV7NVSqu77JBgMPgitFVEE3OZ5PmQR7Y2MrBRkmU4ikQB/tSD1LlELEPUvfMvJTRj1h1q6pB9LVJAe1Q36F2e3yX1IJvSyGbU8pZLcpBJ6acu/Sr0sJtCPj/7lvl56pJbw1BNFPVk5cSNB7S2u6w3Uy7b4InL3m9R9cnKC1tZW+t9iseDx48cAgFgshrOzM7jdbqCE3OQ6kH6KolhRjKouJ8fpwyf1rKwuq2Y89DN+sX3KoW57fHxcU6b3/uoQXrr6XMPv37/pPurxLCeirUQ4HEZzczPsdjtwJdlxOBzY29tDPp/H6uoqRkZG6HvIsbExnJ6eIpVK6Wq6X4oaGQDkcjlMTU1hZWUFBwcHmlXbuJL3y7JMb9jrsL29jdnZWciyjIODA+BqETHhJnX39/djYWGB3vjz8/Po7OykA9Hc3KxZ+NrW1qZZPFstPp+PSvavI0cZHx9Ha2srZFnGwMAA1XFJkgSz2UwXF3u9XszPz9N+lRsPcp5erxeyLGNtbU2jTauEKIoIhUJ0cfPa2pqmnLxUl2UZiUQCsVhMM5nIsoy3b99iZWUFiUQCZ2dniMViwJVhHB0dYWdnh05210Gt6AaA1tZWnJycIJ/PI5fLUSlRNpvF5OQkzs/P60a3SChpZLiBuLESw8PDdAHqbdftdDqRSCQwNzeHrq4u9Pb2UjkJWQlPboBsNlvTtyy+fPmCdDqN9fX1a69Ud7vddHV+f38/NXBBEDA8PEz36+npQS6X0xh/qfHQa9esViuePHlS1c1GPIJajKrH5/PRMq6IQBeqvpUqr4Wenh7s7+9Tjy5JEpaWljT7kAjBZrPB7/fD7XbfStu3SVkjMwp9aKOXutwEURTx6tUrOquGQiEavuhX2L958wafPn0qmC3LEY/HEYlE0NvbW/UxaohyGlcTAlEok5uFXBOXy1WwFrIUFosFDQ0N2NvbAwAq01FLi26CKIqaMFQd0QAAz/OathYXFzUyn1oRBAGjo6NwuVzgeR7z8/P48OEDfRy4uLjAu3fvMDExAVmWYbfbkU6ni0p47pM7NzLi1kloI8syZmZm9LvVBJmVvV4vnVW3t7c13svpdNJ29/f3kcvlNM9wleju7sbXr1+xtLRUkOm6CcSjqr8oVW14ZbpSZS8sLNBnqnKe6TpIkoSpqSmNWLWWML5WPB4PbXdrawvn5+doa2uj5zwzM0PDdRJC1tuC7Ds3MgKZbYqFADdFHXomk0n8+fOn6IUPBoOIRqP0uxvVIggCAoEApqamCt77lBOjVoJ4VPKMVa0nIxOIWnVd7XOiXiBLjEpNY2MjvX6iKBZ4sruCJFyIwru3txdLS0t0DMLhMMxmM/2EQ71Qk5Gps03hcJjOoCQTSMILm82Go6MjuFwumi0jGT0Ssk1OTmJwcLDqusthMpkQCAQ0Ys+pqSl8+/YNgiAUhGQnJyc1f1PS6XTC6/XC5XIhGAzCVKUYtRRjY2P48eMHeJ5HV1cXXrx4UbUnI9k39fdD+CLvlEqhFshOTk4iEAjAbDYDqoweCdlWV1fx+vVrfRUluYmIVp/VbG1t1XyuwePx0DHgeR7RaLSm52SjYavw/wFEUcTq6qrmBhNFEXNzc0xqUwfU5MkY9UWxbNru7m7B6wrG/cA82T9APp/H+/fvEY/H6bbu7u66DJ0eIszIGAyDYeEig2EwzMgYDINhRsZgGAwzMgbDYJiRMRgGw4yMwTAYZmQMhsEwI2MwDIYZGYNhMMzIGAyDYUbGYBjM/wHvzegS0YqsuwAAAABJRU5ErkJggg==)"
      ],
      "metadata": {
        "id": "MGz2kiJfWT4G"
      }
    },
    {
      "cell_type": "code",
      "source": [
        "# 2.8\n",
        "x = input(\"masukan sebuah nama : \")\n",
        "print(x)\n",
        "if str(x) == 'john' :\n",
        "  print(\"nama anda adalah john\")\n",
        "else :\n",
        "  print(\"nama anda bukan john\")"
      ],
      "metadata": {
        "id": "TJb30AnBWUVX",
        "colab": {
          "base_uri": "https://localhost:8080/"
        },
        "outputId": "191e7916-cef6-4718-fffc-e33b5eacc7b2"
      },
      "execution_count": null,
      "outputs": [
        {
          "output_type": "stream",
          "name": "stdout",
          "text": [
            "masukan sebuah nama : john\n",
            "john\n",
            "nama anda adalah john\n"
          ]
        }
      ]
    },
    {
      "cell_type": "markdown",
      "source": [
        "![image.png](data:image/png;base64,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)\n",
        "\n",
        "----\n",
        "\n",
        "![image.png](data:image/png;base64,iVBORw0KGgoAAAANSUhEUgAAAMIAAAAwCAYAAABDu6UjAAAAAXNSR0IArs4c6QAAAARnQU1BAACxjwv8YQUAAAAJcEhZcwAADsMAAA7DAcdvqGQAAAfQSURBVHhe7ZxPSBtPFMe/v991i3paQWJZxEIlmFuVSAoeUmgOkYJUDyKUYhChkZYccpEcJJdAvZjDIooUpWALgiDYgzlYKg1JobRZ0kuDLM3Skj3V0D37O+jOLzsm2c0fa7XvAx6cmZ2Znd3vvLe77+Wfk5OTExDEX86/fAFB/I2QEAiChEAQp5AQCIKEQBCnkBAIgoRAEKeQEAiChEAQp5AQ/nBkWcbAwAAUReGriDZiKwTDMDA5OQlJkix/sizzTS8Ec/xUKsVXEUTb+MdprJFhGHj8+DFGR0cxNzfHV18Y5rihUAh+v5+vJoi2YGsR7NB1ne3YAwMDkCQJk5OTMAwDAJBKpRCJRCDL8jlrUm23l2UZkUgEABCJROB2u5HJZDAzM3PueDtkWWb9mcdWjsVbO3PehmEgFArh+fPnkCQJkUiE9cHP1Ty2mvui6zpGRkbY+Tilst9qffPzruxflmXL+tcqI6y0LAQAKBaLiMViePv2LbLZLIrFItLpNKvf3t5GoVCAqqrY3d3FxsbGuZumGktLS8jn8xgeHsba2hpUVYWqqg1ZpEQigf7+fqiqimg0itXVVXZD7OzsYGFhAaqqIp/PAwA2NjYAAOVyGR8+fMDW1hb29vbQ39+PaDSKN2/eAAAURUFHRweb0/z8POLxeFtutrm5Odbv7u4uurq6LPWxWAwul4vNW9M0tjn4fD58+/YNR0dHwJloDg4OMDo6CkEQLP0Q/9MWIXR2dmJlZQWiKEIURXi9Xnz9+pXVDw8PY3FxEQDQ19eHmzdvolQqVfRwcYyPjzPh+Hw+lMtldrNOTU1hcHAQACAIAkZHR1EoFNixoVAIgiBAkiSMj4+zcgAYHBzE1NQU+5/vGwBEUcT79++xtLTEylpF13VomoZoNAqczTsUCuHg4ACGYWBwcBAjIyM4PDwEABwdHaFcLp+bP2GlLUJohkqhXBaKojB3TpIkJBIJvklNePckGAzi+PiYb9Z2SqUScrkchoaG2NgzMzOWNoFAgAnj8PAQY2NjEEXR0oawcmlCuHXrFl/0W9F1HbOzs5ifn2duiLnLOiEWiwEA8vk8c2E6Ozv5ZheCJEnIZrNs3qqq4tWrV8z18Xg8KJfLUBQFHz9+hM/n47sgOH67EDY2NlAsFuHxeFiZaR1SqdS5XVkQBLhcLuabtxtTkIqiYHl5ma+ui8vlgiAIMAwD8Xj8nEVo9mG5Hn19fejo6Di3TpWIooixsTE8e/YMPT09zP0jamMrBNMFMN/eJBIJSA28uQGATCYDt9sNSZKwubmJnZ0diKIIQRCwsLCA5eVlSJKE1dVVPHnyhD8c0WgU6XSauQKNjF0LURQxPT3N3kbNzs5iYmKCb1aTR48eYW9vD5Ikwe12486dO7/FIgiCgPX1dWiaxtaj2pr4fD78/PkTd+/etZQTNTi5YPb3908mJiZOfv36xVcRDsjlcif3798/KZVKfFVdmj3ub8XWIhCXy4sXL9DR0dHQq0/TVaOHZOeQEP4w+LdR6XQayWTSkRAq3ViXy9XQ95a/HcchFgRxnSGLQBAkBII4hYRAECQEK2aUbKuYD63N5lBc1WjRVCp1JecNJ0Iw43Eqv45e5RMm6pNKpSwf6iQu9Py6YisEAOjq6oKmadB1na8irhl+v5/FL2WzWfT09PBNriWOhXD79m1sb2/zVUBFTI25g5jWw3CQ4MK/N2/U0vA7GJ8400hiDn9+9fp2QqlUYusyMjLCNhJd1xEIBCw5GfXcskbWzC5RqlX4iN1qcVSViUWV52R3PS4TR0IAgIcPH6JQKFRdUDN+yNxF0uk0O0G7BJd6yTF26LqOz58/sx1sbW0NsVjMYrnqJeZUJrioqmqJ2XfStx3xeBwrKytQVRVer7duoFwtIpEINE1DPp9nqap2a2aXKNUsZsRuMpm0XOvKmz2TyeDHjx9szTY3Nx1fj8vEsRDMT/XVFjQSibD6aok59RJc7JJj6iGKomVH8ng86OzstCT91ErMURQFX758qRl67aRvO5LJJDu3QCCAdDrdkJCePn0KTdOwvr5u+bJst2Z2iVLNsr29jd7eXni9XuBsjRYXF1nuA7gkrGprVut6XDaOhYCziMt3797xxedcCN7FqAdvahvdNSvN7NDQEFRV5Zs0TTv77u7ubig6NZPJYH9/v2qKZatr1gpm6Pl1oyEh9PX14fv37/j06RMrUxQF4XDYklPM7/q1aDU5RpZlpNNplqSSzWYhSRLfrCna3XepVGooeG54eBhbW1tYXl62+NGtrlmraJpm2cHbYWn+BBoSgiAIVd+Pd3V1obu7GzizDo1YBLSYHNPb28turkQi4XjX7u7uxvHxMXK5HHB24/PzbrZvHsMwsLq6atndj4+PmctQbWyc5UUnk0mEw+FzP3bQyprV4+XLl2wsc23MJCqfz4dcLsfcY13Xsbm5yVzfq0xDQkBFGqCJmSweDAYhnSXX3Lt3z3JMLVpNjhkfH0exWGRJPzdu3HC8a5v+rTl2oVCw7Kyt9G1i9u12uy2/B1Vt7FpW1O/3Y35+HsFgELIst7xmdjx48ADxeBySJCEcDrNnDZxd69evXyMcDjN3cXp6+lr83hRFnxJEMxaBIK4jJASCICEQxCkkBIIgIRDEKSQEgiAhEMQpJASCICEQxCkkBIIA8B+Q1a2g7j4COwAAAABJRU5ErkJggg==)"
      ],
      "metadata": {
        "id": "WCH8UPZeWjOO"
      }
    },
    {
      "cell_type": "code",
      "source": [
        "# 2.9\n",
        "x = input(\"masukan sebuah kalimat : \")\n",
        "print(x)\n",
        "if str(x) >= 'len':\n",
        "  print(\"panjang string lebih dari 10\")\n",
        "else :\n",
        "  print(\"panjang string kurang dari 10\")"
      ],
      "metadata": {
        "id": "2CYy4MQhWjaw",
        "colab": {
          "base_uri": "https://localhost:8080/"
        },
        "outputId": "94257d0a-e4c3-41a3-e932-e3c844f454fa"
      },
      "execution_count": null,
      "outputs": [
        {
          "output_type": "stream",
          "name": "stdout",
          "text": [
            "masukan sebuah kalimat : riri dan anin\n",
            "riri dan anin\n",
            "panjang string lebih dari 10\n"
          ]
        }
      ]
    },
    {
      "cell_type": "markdown",
      "source": [
        "![image.png](data:image/png;base64,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)\n",
        "\n",
        "----\n",
        "\n",
        "![image.png](data:image/png;base64,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)"
      ],
      "metadata": {
        "id": "YdRF9se3YE3s"
      }
    },
    {
      "cell_type": "code",
      "source": [
        "# 2.10\n",
        "x = input(\"masukan umur anda : \")\n",
        "print(x)\n",
        "if int(x) >= 50 :\n",
        "  print(\"umur anda lebih dari 50\")\n",
        "else :\n",
        "  print(\"umur anda kurang dari 50\")"
      ],
      "metadata": {
        "id": "bwYpEw6ZYFRJ",
        "colab": {
          "base_uri": "https://localhost:8080/"
        },
        "outputId": "b52f4e97-9962-4c84-a63d-9a929949f633"
      },
      "execution_count": null,
      "outputs": [
        {
          "output_type": "stream",
          "name": "stdout",
          "text": [
            "masukan umur anda : 55\n",
            "55\n",
            "umur anda lebih dari 50\n"
          ]
        }
      ]
    },
    {
      "cell_type": "markdown",
      "source": [
        "![image.png](data:image/png;base64,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)\n",
        "\n",
        "-----\n",
        "\n",
        "\n",
        "![image.png](data:image/png;base64,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)"
      ],
      "metadata": {
        "id": "Hmf_uzKCYarM"
      }
    },
    {
      "cell_type": "markdown",
      "source": [
        "\n",
        "### 3. **IF-ELIF-ELIF Statement - Python**\n",
        "Soal:\n",
        "1. Buat program untuk memeriksa apakah angka lebih besar dari 100, antara 50-100, atau kurang dari 50.\n",
        "2. Tulis program untuk menentukan apakah nilai lebih dari 90, antara 70 dan 90, atau kurang dari 70.\n",
        "3. Buat program yang memeriksa umur untuk menentukan apakah seseorang anak-anak, remaja, atau dewasa.\n",
        "4. Tulis program untuk memeriksa suhu apakah sangat dingin, nyaman, atau sangat panas.\n",
        "5. Buat program yang memeriksa angka apakah negatif, nol, atau positif.\n",
        "6. Buat program untuk menentukan apakah hari dalam minggu adalah hari kerja atau akhir pekan.\n",
        "7. Tulis program untuk memeriksa apakah suhu tubuh normal, demam ringan, atau demam tinggi.\n",
        "8. Buat program untuk memeriksa apakah nilai yang dimasukkan adalah A, B, C, D, atau E.\n",
        "9. Tulis program untuk memeriksa waktu apakah pagi, siang, atau malam.\n",
        "10. Buat program yang memeriksa apakah angka ganjil, genap, atau nol."
      ],
      "metadata": {
        "id": "ftQjaSg5IT7O"
      }
    },
    {
      "cell_type": "code",
      "source": [
        "#3.1\n",
        "x = input(\"masukan angka : \")\n",
        "print(x)\n",
        "if int(x) > 100 :\n",
        "  print(\"angka lebih dari 100\")\n",
        "elif int(x) > 50 < 100 :\n",
        "  print(\"angka antara 50 dan 100\")\n",
        "elif int(x) < 50 :\n",
        "  print(\"angka kurang dari 50\")"
      ],
      "metadata": {
        "id": "huiXaQcTIzmm",
        "colab": {
          "base_uri": "https://localhost:8080/"
        },
        "outputId": "06c305af-c6e8-4f5f-f5e7-a5ca0ad0c0af"
      },
      "execution_count": null,
      "outputs": [
        {
          "output_type": "stream",
          "name": "stdout",
          "text": [
            "masukan angka : 24\n",
            "24\n",
            "angka kurang dari 50\n"
          ]
        }
      ]
    },
    {
      "cell_type": "code",
      "source": [
        "#3.2\n",
        "x = input(\"masukan nilai : \")\n",
        "print(x)\n",
        "if int(x) > 90 :\n",
        "  print(\"nilai lebih dari 90\")\n",
        "elif int(x) > 70 < 90 :\n",
        "  print(\"nilai antara 70 dan 90\")\n",
        "elif int(x) < 70 :\n",
        "  print(\"nilai kurang dari 70\")"
      ],
      "metadata": {
        "id": "IuTCTmJ-IzTM",
        "colab": {
          "base_uri": "https://localhost:8080/"
        },
        "outputId": "f0fce4e1-c77b-4341-f8b1-0a37924fda16"
      },
      "execution_count": null,
      "outputs": [
        {
          "output_type": "stream",
          "name": "stdout",
          "text": [
            "masukan nilai : 95\n",
            "95\n",
            "nilai lebih dari 90\n"
          ]
        }
      ]
    },
    {
      "cell_type": "code",
      "source": [
        "#3.3\n",
        "x = input(\"masukan usia anda : \")\n",
        "print(x)\n",
        "if int(x) > 17 :\n",
        "  print(\"anda dewasa\")\n",
        "elif int(x) > 13 < 17 :\n",
        "  print(\"anda remaja\")\n",
        "elif int(x) < 13 :\n",
        "  print(\"anda anak - anak\")"
      ],
      "metadata": {
        "id": "iB8zOPvyIzIc",
        "colab": {
          "base_uri": "https://localhost:8080/"
        },
        "outputId": "7061b166-31f0-4dc2-ce7a-0742d69e1242"
      },
      "execution_count": null,
      "outputs": [
        {
          "output_type": "stream",
          "name": "stdout",
          "text": [
            "masukan usia anda : 20\n",
            "20\n",
            "anda dewasa\n"
          ]
        }
      ]
    },
    {
      "cell_type": "code",
      "source": [
        "#3.4\n",
        "x = input(\"masukan suhu ruang anda : \")\n",
        "print(x)\n",
        "if int(x) > 37 :\n",
        "  print(\"suhu sangat panas\")\n",
        "elif int(x) > 35 < 37 :\n",
        "  print(\"suhu nyaman\")\n",
        "elif int(x) < 35 :\n",
        "  print(\"suhu sangat dingin\")"
      ],
      "metadata": {
        "colab": {
          "base_uri": "https://localhost:8080/"
        },
        "id": "6nPKN2Hhv-8V",
        "outputId": "7c2a5d76-8899-48d0-fe02-ac0165bef13c"
      },
      "execution_count": null,
      "outputs": [
        {
          "output_type": "stream",
          "name": "stdout",
          "text": [
            "masukan suhu ruang anda : 20\n",
            "20\n",
            "suhu sangat dingin\n"
          ]
        }
      ]
    },
    {
      "cell_type": "code",
      "source": [
        "#3.5\n",
        "x = input(\"masukan sebuah angka : \")\n",
        "print(x)\n",
        "if int(x) < 0 :\n",
        "  print(\"angka negatif\")\n",
        "elif int(x) == 0 :\n",
        "  print(\"angka nol\")\n",
        "elif int(x) > 0 :\n",
        "  print(\"angka positif\")"
      ],
      "metadata": {
        "id": "vo-914cxIy9c",
        "colab": {
          "base_uri": "https://localhost:8080/"
        },
        "outputId": "6eac3933-0819-4c1d-cbc4-ccf5e2f040b0"
      },
      "execution_count": null,
      "outputs": [
        {
          "output_type": "stream",
          "name": "stdout",
          "text": [
            "masukan sebuah angka : 0\n",
            "0\n",
            "angka nol\n"
          ]
        }
      ]
    },
    {
      "cell_type": "code",
      "source": [
        "#3.6\n",
        "x = input(\"masukan nama hari :\")\n",
        "print(x)\n",
        "if str(x) == \"senin\" :\n",
        "  print(\"hari kerja\")\n",
        "elif str(x) == \"selasa\" :\n",
        "  print(\"hari kerja\")\n",
        "elif str(x) == \"rabu\" :\n",
        "  print(\"hari kerja\")\n",
        "elif str(x) == \"kamis\" :\n",
        "  print(\"hari kerja\")\n",
        "elif str(x) == \"jumat\" :\n",
        "  print(\"hari kerja\")\n",
        "elif str(x) == \"sabtu\" :\n",
        "  print(\"hari libur\")\n",
        "elif str(x) == \"minggu\" :\n",
        "  print(\"hari libur\")"
      ],
      "metadata": {
        "id": "FfXe0rfNIyyx",
        "colab": {
          "base_uri": "https://localhost:8080/"
        },
        "outputId": "085e50c2-3dcb-471e-c86d-3c4134d6fb80"
      },
      "execution_count": null,
      "outputs": [
        {
          "output_type": "stream",
          "name": "stdout",
          "text": [
            "masukan nama hari :jumat\n",
            "jumat\n",
            "hari kerja\n"
          ]
        }
      ]
    },
    {
      "cell_type": "code",
      "source": [
        "#3.7\n",
        "x = input(\"masukan suhu tubuh anda : \")\n",
        "print(x)\n",
        "if int(x) > 37 :\n",
        "  print(\"suhu tubuh anda demam tinggi\")\n",
        "elif int(x) > 35 < 37 :\n",
        "  print(\"suhu tubuh demam ringan\")\n",
        "elif int(x) < 35 :\n",
        "  print(\"suhu tubuh normal\")"
      ],
      "metadata": {
        "id": "EJC64e9ZIypr",
        "colab": {
          "base_uri": "https://localhost:8080/"
        },
        "outputId": "272b58c8-daa9-49e2-fe5f-1a41d54dd971"
      },
      "execution_count": null,
      "outputs": [
        {
          "output_type": "stream",
          "name": "stdout",
          "text": [
            "masukan suhu tubuh anda : 40\n",
            "40\n",
            "suhu tubuh anda demam tinggi\n"
          ]
        }
      ]
    },
    {
      "cell_type": "code",
      "source": [
        "#3.8\n",
        "x = input(\"masukan nilai anda :\")\n",
        "print(x)\n",
        "if int(x) > 90 :\n",
        "  print(\"nilai anda A\")\n",
        "elif int(x) > 80 < 90 :\n",
        "  print(\"nilai anda B\")\n",
        "elif int(x) > 70 < 80 :\n",
        "  print(\"nilai anda C\")\n",
        "elif int(x) > 60 < 70 :\n",
        "  print(\"nilai anda D\")\n",
        "elif int(x) < 60 :\n",
        "  print(\"nilai anda E\")"
      ],
      "metadata": {
        "id": "y3OoFSDuIyeh",
        "colab": {
          "base_uri": "https://localhost:8080/"
        },
        "outputId": "7677f854-766f-42b6-87be-85a91c25a33a"
      },
      "execution_count": null,
      "outputs": [
        {
          "output_type": "stream",
          "name": "stdout",
          "text": [
            "masukan nilai anda :87\n",
            "87\n",
            "nilai anda B\n"
          ]
        }
      ]
    },
    {
      "cell_type": "code",
      "source": [
        "#3.9\n",
        "x = input(\"masukan waktu hari ini : \")\n",
        "print(x)\n",
        "if int(x) < 10 :\n",
        "  print(\"selamat pagi\")\n",
        "elif 11 < int(x) < 15:\n",
        "  print(\"selamat siang\")\n",
        "elif 16 < int(x) < 18 :\n",
        "  print(\"selamat sore\")\n",
        "elif 19 < int(x) < 24 :\n",
        "  print(\"selamat malam\")"
      ],
      "metadata": {
        "id": "SjF-RmjwIyU0",
        "colab": {
          "base_uri": "https://localhost:8080/"
        },
        "outputId": "66ab0962-727f-42bc-815b-71d4d2ebb30a"
      },
      "execution_count": null,
      "outputs": [
        {
          "output_type": "stream",
          "name": "stdout",
          "text": [
            "masukan waktu hari ini : 20\n",
            "20\n",
            "selamat malam\n"
          ]
        }
      ]
    },
    {
      "cell_type": "code",
      "source": [
        "#3.10\n",
        "x = input(\"masukan sebuah angka : \")\n",
        "print(x)\n",
        "if int(x) == 0 :\n",
        "  print(\"angka nol\")\n",
        "elif int(x) % 2 == 0 :\n",
        "  print(\"angka genap\")\n",
        "else :\n",
        "  print(\"angka ganjil\")"
      ],
      "metadata": {
        "colab": {
          "base_uri": "https://localhost:8080/"
        },
        "id": "NE_ZzRI-y5Nx",
        "outputId": "ee55803b-65c1-4444-d2c5-67210fa107f3"
      },
      "execution_count": null,
      "outputs": [
        {
          "output_type": "stream",
          "name": "stdout",
          "text": [
            "masukan sebuah angka : 5\n",
            "5\n",
            "angka ganjil\n"
          ]
        }
      ]
    },
    {
      "cell_type": "markdown",
      "source": [
        "\n",
        "### 4. **IF-ELIF-ELSE Statement - Python**\n",
        "Soal:\n",
        "1. Buat program yang memeriksa apakah angka lebih dari 100, antara 50 dan 100, atau kurang dari 50.\n",
        "2. Tulis program untuk memeriksa apakah umur lebih besar dari 18, antara 13 hingga 18, atau kurang dari 13.\n",
        "3. Buat program untuk memeriksa apakah suhu lebih dari 30, antara 20 hingga 30, atau kurang dari 20.\n",
        "4. Tulis program untuk memeriksa apakah nilai lebih dari 90, antara 60 hingga 90, atau kurang dari 60.\n",
        "5. Buat program untuk memeriksa apakah angka lebih besar dari 0, 0, atau lebih kecil dari 0.\n",
        "6. Tulis program untuk memeriksa apakah hari ini hari Senin, hari biasa, atau hari libur.\n",
        "7. Buat program yang memeriksa suhu tubuh apakah normal, demam ringan, atau demam tinggi.\n",
        "8. Tulis program untuk memeriksa apakah nilai lebih dari 90, lebih dari 50, atau kurang dari 50.\n",
        "9. Buat program untuk memeriksa waktu apakah pagi, siang, atau malam.\n",
        "10. Buat program untuk memeriksa angka apakah genap, ganjil, atau nol.\n"
      ],
      "metadata": {
        "id": "H9hORS6KIPo_"
      }
    },
    {
      "cell_type": "code",
      "source": [
        "# 4.1"
      ],
      "metadata": {
        "id": "oBBFq1VNYa43"
      },
      "execution_count": null,
      "outputs": []
    },
    {
      "cell_type": "code",
      "source": [
        "# 4.2"
      ],
      "metadata": {
        "id": "wrK8eyewI15o"
      },
      "execution_count": null,
      "outputs": []
    },
    {
      "cell_type": "code",
      "source": [
        "# 4.3"
      ],
      "metadata": {
        "id": "2lj5kv09I12O"
      },
      "execution_count": null,
      "outputs": []
    },
    {
      "cell_type": "code",
      "source": [
        "# 4.4"
      ],
      "metadata": {
        "id": "kQBaJbaPI10J"
      },
      "execution_count": null,
      "outputs": []
    },
    {
      "cell_type": "code",
      "source": [
        "# 4.5"
      ],
      "metadata": {
        "id": "4eLgXawMI1xz"
      },
      "execution_count": null,
      "outputs": []
    },
    {
      "cell_type": "code",
      "source": [
        "# 4.6"
      ],
      "metadata": {
        "id": "GSAUt0PXI1vM"
      },
      "execution_count": null,
      "outputs": []
    },
    {
      "cell_type": "code",
      "source": [
        "# 4.7"
      ],
      "metadata": {
        "id": "DEBFfEhpI3hW"
      },
      "execution_count": null,
      "outputs": []
    },
    {
      "cell_type": "code",
      "source": [
        "# 4.8"
      ],
      "metadata": {
        "id": "1JzI33DJI3Yn"
      },
      "execution_count": null,
      "outputs": []
    },
    {
      "cell_type": "code",
      "source": [
        "# 4.9"
      ],
      "metadata": {
        "id": "GbBt5KnSI3O4"
      },
      "execution_count": null,
      "outputs": []
    },
    {
      "cell_type": "code",
      "source": [
        "# 4.10"
      ],
      "metadata": {
        "id": "Z4qZUwxgI1ss"
      },
      "execution_count": null,
      "outputs": []
    }
  ]
}